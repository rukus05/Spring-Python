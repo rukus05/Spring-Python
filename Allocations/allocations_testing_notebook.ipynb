{
 "cells": [
  {
   "cell_type": "code",
   "execution_count": 1,
   "id": "7f083e08",
   "metadata": {},
   "outputs": [
    {
     "name": "stdout",
     "output_type": "stream",
     "text": [
      "[{'name': 'Bob', 'age': 25}]\n"
     ]
    }
   ],
   "source": [
    "# Define a function to search for a name in a list of dictionaries\n",
    "def search_name(name, list_of_dicts):\n",
    "    return [d for d in list_of_dicts if d.get('name') == name]\n",
    "\n",
    "# List of dictionaries\n",
    "list_of_dicts = [\n",
    "    {\"name\": \"Alice\", \"age\": 30},\n",
    "    {\"name\": \"Bob\", \"age\": 25},\n",
    "    {\"name\": \"Charlie\", \"age\": 35}\n",
    "]\n",
    "\n",
    "# Search for the name \"Bob\" in the list of dictionaries\n",
    "result = search_name(\"Bob\", list_of_dicts)\n",
    "print(result)"
   ]
  },
  {
   "cell_type": "code",
   "execution_count": 3,
   "id": "6753af7d",
   "metadata": {},
   "outputs": [
    {
     "name": "stdout",
     "output_type": "stream",
     "text": [
      "Charlie's points are: 80\n"
     ]
    }
   ],
   "source": [
    "list_of_dicts = [\n",
    "    {\"Name\": \"Alice\", \"Age\": 40, \"Point\": 80},\n",
    "    {\"Name\": \"Bob\", \"Age\": 20},\n",
    "    {\"Name\": \"Charlie\", \"Age\": 30, \"Point\": 70}\n",
    "]\n",
    "\n",
    "# Find and print the points for Charlie\n",
    "charlie_points = None\n",
    "for person in list_of_dicts:\n",
    "    if person.get('Age') == 40:\n",
    "        charlie_points = person.get('Point')\n",
    "        break\n",
    "\n",
    "print(\"Charlie's points are:\", charlie_points)"
   ]
  },
  {
   "cell_type": "code",
   "execution_count": 15,
   "id": "2566c7d2",
   "metadata": {},
   "outputs": [
    {
     "name": "stdout",
     "output_type": "stream",
     "text": [
      "Alice 30 85\n",
      "Bob 25 90\n",
      "Charlie 35 75\n"
     ]
    }
   ],
   "source": [
    "import pandas as pd\n",
    "\n",
    "# Create a sample DataFrame with a column containing a space in the name\n",
    "data = {'Name': ['Alice', 'Bob', 'Charlie'],\n",
    "        'Age': [30, 25, 35],\n",
    "        'Test Score': [85, 90, 75]}  # Column name with a space\n",
    "df = pd.DataFrame(data)\n",
    "\n",
    "# Iterate over the DataFrame rows and access columns with spaces\n",
    "for index, row in df.iterrows():\n",
    "    print(row['Name'], row['Age'], row['Test Score'])"
   ]
  },
  {
   "cell_type": "code",
   "execution_count": null,
   "id": "477491a9",
   "metadata": {},
   "outputs": [
    {
     "name": "stdout",
     "output_type": "stream",
     "text": [
      "Select the current  employee allocations File:\n"
     ]
    }
   ],
   "source": [
    "\n",
    "\n",
    "\n",
    "\n",
    "from msilib.schema import File\n",
    "import time\n",
    "import pandas as pd\n",
    "import re\n",
    "import openpyxl\n",
    "import datetime\n",
    "import tkinter as tk\n",
    "from tkinter import TOP, ttk\n",
    "from tkinter import filedialog as fd\n",
    "from tkinter.messagebox import showinfo\n",
    "from tkinter.filedialog import asksaveasfile\n",
    "import PySimpleGUI as sg\n",
    "\n",
    "\n",
    "## This file is to create the List of dictionaries for the Employee Allocations.\n",
    "def main(): \n",
    "    \n",
    "    \n",
    "\n",
    "    # Prompt user for the Allocations data\n",
    "    print(\"Select the current  employee allocations File:\")\n",
    "    allocf = FilePrompt()\n",
    "    df_ea = pd.read_excel(allocf)\n",
    "    df_ea = df_ea.reset_index()\n",
    "\n",
    "    ea_dict = {}\n",
    "    \n",
    "    for index, row in df_ea.iterrows():\n",
    "        if row['Employee Name'] != 'ALL':\n",
    "            ea_dict[row['POSITION ID']] = {\n",
    "                'HQ': row['HQ'],\n",
    "                'Nest': row['Nest'],\n",
    "                'SF': row['SF'],\n",
    "                'OAK': row['OAK'],\n",
    "                'SV': row['SV'],\n",
    "                'NYC': row['NYC'],\n",
    "                'PDX': row['PDX']\n",
    "            \n",
    "        }\n",
    "    print(ea_dict)\n",
    "\n",
    "def FilePrompt():\n",
    "    root = tk.Tk()\n",
    "    root.title('Tkinter Open File Dialog')\n",
    "    root.resizable(False, False)\n",
    "    root.geometry('300x150')\n",
    "    root.withdraw()\n",
    "\n",
    "\n",
    "    filename = fd.askopenfilename()\n",
    "\n",
    "    return filename\n",
    "    \n",
    "def save_dataframe(df, sl):\n",
    "    file_path = fd.asksaveasfilename(defaultextension=\".xlsx\", filetypes=[(\"Excel files\", \"*.xlsx\"), (\"All files\", \"*.*\")])\n",
    "    \n",
    "    if file_path:\n",
    "        try:\n",
    "            # Assuming df is your DataFrame\n",
    "            df.to_excel(file_path, index=False)\n",
    "            sl.config(text=f\"Saved as {file_path}\")\n",
    "        except Exception as e:\n",
    "            sl.config(text=f\"Error: {str(e)}\")\n",
    "\n",
    "\n",
    "if __name__ == \"__main__\":\n",
    "    main()\n"
   ]
  },
  {
   "cell_type": "code",
   "execution_count": 1,
   "id": "899d4e42",
   "metadata": {},
   "outputs": [],
   "source": [
    "ld = {'362000054': {'HQ': 0.25, 'Nest': 0.0, 'SF': 0.0, 'OAK': 0.0, 'SV': 0.0, 'NYC': 0.75, 'PDX': 0.0}, \\\n",
    " '362000056': {'HQ': 0.0, 'Nest': 0.0, 'SF': 0.1, 'OAK': 0.05, 'SV': 0.05, 'NYC': 0.8, 'PDX': 0.0}}"
   ]
  },
  {
   "cell_type": "code",
   "execution_count": 2,
   "id": "062d7efd",
   "metadata": {},
   "outputs": [
    {
     "name": "stdout",
     "output_type": "stream",
     "text": [
      "{'362000054': {'HQ': 0.25, 'Nest': 0.0, 'SF': 0.0, 'OAK': 0.0, 'SV': 0.0, 'NYC': 0.75, 'PDX': 0.0}, '362000056': {'HQ': 0.0, 'Nest': 0.0, 'SF': 0.1, 'OAK': 0.05, 'SV': 0.05, 'NYC': 0.8, 'PDX': 0.0}}\n"
     ]
    }
   ],
   "source": [
    "print(ld)"
   ]
  },
  {
   "cell_type": "code",
   "execution_count": 4,
   "id": "ca8a08ae",
   "metadata": {},
   "outputs": [
    {
     "name": "stdout",
     "output_type": "stream",
     "text": [
      "{'HQ': 0.25, 'Nest': 0.0, 'SF': 0.0, 'OAK': 0.0, 'SV': 0.0, 'NYC': 0.75, 'PDX': 0.0}\n"
     ]
    }
   ],
   "source": [
    "print(ld['362000054'])"
   ]
  },
  {
   "cell_type": "code",
   "execution_count": 6,
   "id": "cdf4c620",
   "metadata": {},
   "outputs": [
    {
     "name": "stdout",
     "output_type": "stream",
     "text": [
      "0.75\n"
     ]
    }
   ],
   "source": [
    "print((ld['362000054']['NYC']))"
   ]
  },
  {
   "cell_type": "code",
   "execution_count": 7,
   "id": "92b455dd",
   "metadata": {},
   "outputs": [
    {
     "name": "stdout",
     "output_type": "stream",
     "text": [
      "0.8\n"
     ]
    }
   ],
   "source": [
    "a = '362000056'\n",
    "b = 'NYC'\n",
    "print(ld[a][b])"
   ]
  },
  {
   "cell_type": "code",
   "execution_count": null,
   "id": "d6077417",
   "metadata": {},
   "outputs": [],
   "source": []
  }
 ],
 "metadata": {
  "kernelspec": {
   "display_name": "Python 3 (ipykernel)",
   "language": "python",
   "name": "python3"
  },
  "language_info": {
   "codemirror_mode": {
    "name": "ipython",
    "version": 3
   },
   "file_extension": ".py",
   "mimetype": "text/x-python",
   "name": "python",
   "nbconvert_exporter": "python",
   "pygments_lexer": "ipython3",
   "version": "3.10.5"
  }
 },
 "nbformat": 4,
 "nbformat_minor": 5
}
