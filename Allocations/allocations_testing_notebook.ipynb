{
 "cells": [
  {
   "cell_type": "code",
   "execution_count": 1,
   "id": "8287c0fa-a865-47d7-9861-b4413c2fcd2b",
   "metadata": {},
   "outputs": [
    {
     "name": "stdout",
     "output_type": "stream",
     "text": [
      "['index', 'SUB_DEPARTMENT']\n"
     ]
    }
   ],
   "source": [
    "av = ['index', 'SUB_DEPARTMENT', 'Salaries and Wages', 'OT', 'ELC', 'ER Taxes', '401K-ER Match', 'Medical Waiver', 'MEDICAL', 'DENTAL', 'VISION', 'LIFE', 'Other Benefits']\n",
    "print(av[:2])"
   ]
  },
  {
   "cell_type": "code",
   "execution_count": 8,
   "id": "36e2d90e-4e47-4098-8ae0-68781b0e4fd3",
   "metadata": {},
   "outputs": [],
   "source": [
    "dict = {'Receptionist HQ': {'Salaries and Wages': {'SFM MSO': 0, 'Nest': 0, 'SF': 0, 'OAK': 0, 'SV': 0, 'NYC': 0, 'PDX': 0}, 'OT': {'SFM MSO': 0, 'Nest': 0, 'SF': 0, 'OAK': 0, 'SV': 0, 'NYC': 0, 'PDX': 0}, 'ELC': {'SFM MSO': 0, 'Nest': 0, 'SF': 0, 'OAK': 0, 'SV': 0, 'NYC': 0, 'PDX': 0}, 'ER Taxes': {'SFM MSO': 0, 'Nest': 0, 'SF': 0, 'OAK': 0, 'SV': 0, 'NYC': 0, 'PDX': 0}, '401K-ER Match': {'SFM MSO': 0, 'Nest': 0, 'SF': 0, 'OAK': 0, 'SV': 0, 'NYC': 0, 'PDX': 0}, 'Medical Waiver': {'SFM MSO': 0, 'Nest': 0, 'SF': 0, 'OAK': 0, 'SV': 0, 'NYC': 0, 'PDX': 0}, 'MEDICAL': {'SFM MSO': 0, 'Nest': 0, 'SF': 0, 'OAK': 0, 'SV': 0, 'NYC': 0, 'PDX': 0}, 'DENTAL': {'SFM MSO': 0, 'Nest': 0, 'SF': 0, 'OAK': 0, 'SV': 0, 'NYC': 0, 'PDX': 0}, 'VISION': {'SFM MSO': 0, 'Nest': 0, 'SF': 0, 'OAK': 0, 'SV': 0, 'NYC': 0, 'PDX': 0}, 'LIFE': {'SFM MSO': 0, 'Nest': 0, 'SF': 0, 'OAK': 0, 'SV': 0, 'NYC': 0, 'PDX': 0}, 'Other Benefits': {'SFM MSO': 0, 'Nest': 0, 'SF': 0, 'OAK': 0, 'SV': 0, 'NYC': 0, 'PDX': 0}}, \\\n",
    "     'Medical Records': {'Salaries and Wages': {'SFM MSO': 0, 'Nest': 0, 'SF': 0, 'OAK': 0, 'SV': 0, 'NYC': 0, 'PDX': 0}, 'OT': {'SFM MSO': 0, 'Nest': 0, 'SF': 0, 'OAK': 0, 'SV': 0, 'NYC': 0, 'PDX': 0}, 'ELC': {'SFM MSO': 0, 'Nest': 0, 'SF': 0, 'OAK': 0, 'SV': 0, 'NYC': 0, 'PDX': 0}, 'ER Taxes': {'SFM MSO': 0, 'Nest': 0, 'SF': 0, 'OAK': 0, 'SV': 0, 'NYC': 0, 'PDX': 0}, '401K-ER Match': {'SFM MSO': 0, 'Nest': 0, 'SF': 0, 'OAK': 0, 'SV': 0, 'NYC': 0, 'PDX': 0}, 'Medical Waiver': {'SFM MSO': 0, 'Nest': 0, 'SF': 0, 'OAK': 0, 'SV': 0, 'NYC': 0, 'PDX': 0}, 'MEDICAL': {'SFM MSO': 0, 'Nest': 0, 'SF': 0, 'OAK': 0, 'SV': 0, 'NYC': 0, 'PDX': 0}, 'DENTAL': {'SFM MSO': 0, 'Nest': 0, 'SF': 0, 'OAK': 0, 'SV': 0, 'NYC': 0, 'PDX': 0}, 'VISION': {'SFM MSO': 0, 'Nest': 0, 'SF': 0, 'OAK': 0, 'SV': 0, 'NYC': 0, 'PDX': 0}, 'LIFE': {'SFM MSO': 0, 'Nest': 0, 'SF': 0, 'OAK': 0, 'SV': 0, 'NYC': 0, 'PDX': 0}, 'Other Benefits': {'SFM MSO': 0, 'Nest': 0, 'SF': 0, 'OAK': 0, 'SV': 0, 'NYC': 0, 'PDX': 0}}, \\\n",
    "     'Call Center': {'Salaries and Wages': {'SFM MSO': 0, 'Nest': 0, 'SF': 0, 'OAK': 0, 'SV': 0, 'NYC': 0, 'PDX': 0}, 'OT': {'SFM MSO': 0, 'Nest': 0, 'SF': 0, 'OAK': 0, 'SV': 0, 'NYC': 0, 'PDX': 0}, 'ELC': {'SFM MSO': 0, 'Nest': 0, 'SF': 0, 'OAK': 0, 'SV': 0, 'NYC': 0, 'PDX': 0}, 'ER Taxes': {'SFM MSO': 0, 'Nest': 0, 'SF': 0, 'OAK': 0, 'SV': 0, 'NYC': 0, 'PDX': 0}, '401K-ER Match': {'SFM MSO': 0, 'Nest': 0, 'SF': 0, 'OAK': 0, 'SV': 0, 'NYC': 0, 'PDX': 0}, 'Medical Waiver': {'SFM MSO': 0, 'Nest': 0, 'SF': 0, 'OAK': 0, 'SV': 0, 'NYC': 0, 'PDX': 0}, 'MEDICAL': {'SFM MSO': 0, 'Nest': 0, 'SF': 0, 'OAK': 0, 'SV': 0, 'NYC': 0, 'PDX': 0}, 'DENTAL': {'SFM MSO': 0, 'Nest': 0, 'SF': 0, 'OAK': 0, 'SV': 0, 'NYC': 0, 'PDX': 0}, 'VISION': {'SFM MSO': 0, 'Nest': 0, 'SF': 0, 'OAK': 0, 'SV': 0, 'NYC': 0, 'PDX': 0}, 'LIFE': {'SFM MSO': 0, 'Nest': 0, 'SF': 0, 'OAK': 0, 'SV': 0, 'NYC': 0, 'PDX': 0}, 'Other Benefits': {'SFM MSO': 0, 'Nest': 0, 'SF': 0, 'OAK': 0, 'SV': 0, 'NYC': 0, 'PDX': 0}}, \\\n",
    "     'Financial Counselor': {'Salaries and Wages': {'SFM MSO': 0, 'Nest': 5, 'SF': 7, 'OAK': 0, 'SV': 0, 'NYC': 0, 'PDX': 0}, 'OT': {'SFM MSO': 0, 'Nest': 0, 'SF': 0, 'OAK': 0, 'SV': 0, 'NYC': 0, 'PDX': 0}, 'ELC': {'SFM MSO': 0, 'Nest': 0, 'SF': 0, 'OAK': 0, 'SV': 0, 'NYC': 0, 'PDX': 0}, 'ER Taxes': {'SFM MSO': 0, 'Nest': 0, 'SF': 0, 'OAK': 0, 'SV': 0, 'NYC': 0, 'PDX': 0}, '401K-ER Match': {'SFM MSO': 0, 'Nest': 0, 'SF': 0, 'OAK': 0, 'SV': 0, 'NYC': 0, 'PDX': 0}, 'Medical Waiver': {'SFM MSO': 0, 'Nest': 0, 'SF': 0, 'OAK': 0, 'SV': 0, 'NYC': 0, 'PDX': 0}, 'MEDICAL': {'SFM MSO': 0, 'Nest': 0, 'SF': 0, 'OAK': 0, 'SV': 0, 'NYC': 0, 'PDX': 0}, 'DENTAL': {'SFM MSO': 0, 'Nest': 0, 'SF': 0, 'OAK': 0, 'SV': 0, 'NYC': 0, 'PDX': 0}, 'VISION': {'SFM MSO': 0, 'Nest': 0, 'SF': 0, 'OAK': 0, 'SV': 0, 'NYC': 0, 'PDX': 0}, 'LIFE': {'SFM MSO': 0, 'Nest': 0, 'SF': 0, 'OAK': 0, 'SV': 0, 'NYC': 0, 'PDX': 0}, 'Other Benefits': {'SFM MSO': 0, 'Nest': 0, 'SF': 0, 'OAK': 0, 'SV': 0, 'NYC': 0, 'PDX': 0}}, \\\n",
    "     'Clinical Operations': {'Salaries and Wages': {'SFM MSO': 0, 'Nest': 0, 'SF': 0, 'OAK': 0, 'SV': 0, 'NYC': 0, 'PDX': 0}, 'OT': {'SFM MSO': 0, 'Nest': 0, 'SF': 0, 'OAK': 0, 'SV': 0, 'NYC': 0, 'PDX': 0}, 'ELC': {'SFM MSO': 0, 'Nest': 0, 'SF': 0, 'OAK': 0, 'SV': 0, 'NYC': 0, 'PDX': 0}, 'ER Taxes': {'SFM MSO': 0, 'Nest': 0, 'SF': 0, 'OAK': 0, 'SV': 0, 'NYC': 0, 'PDX': 0}, '401K-ER Match': {'SFM MSO': 0, 'Nest': 0, 'SF': 0, 'OAK': 0, 'SV': 0, 'NYC': 0, 'PDX': 0}, 'Medical Waiver': {'SFM MSO': 0, 'Nest': 0, 'SF': 0, 'OAK': 0, 'SV': 0, 'NYC': 0, 'PDX': 0}, 'MEDICAL': {'SFM MSO': 0, 'Nest': 0, 'SF': 0, 'OAK': 0, 'SV': 0, 'NYC': 0, 'PDX': 0}, 'DENTAL': {'SFM MSO': 0, 'Nest': 0, 'SF': 0, 'OAK': 0, 'SV': 0, 'NYC': 0, 'PDX': 0}, 'VISION': {'SFM MSO': 0, 'Nest': 0, 'SF': 0, 'OAK': 0, 'SV': 0, 'NYC': 0, 'PDX': 0}, 'LIFE': {'SFM MSO': 0, 'Nest': 0, 'SF': 0, 'OAK': 0, 'SV': 0, 'NYC': 0, 'PDX': 0}, 'Other Benefits': {'SFM MSO': 0, 'Nest': 0, 'SF': 0, 'OAK': 0, 'SV': 0, 'NYC': 0, 'PDX': 0}}, \\\n",
    "     'Revenue Cycle': {'Salaries and Wages': {'SFM MSO': 0, 'Nest': 0, 'SF': 0, 'OAK': 0, 'SV': 0, 'NYC': 0, 'PDX': 0}, 'OT': {'SFM MSO': 0, 'Nest': 0, 'SF': 0, 'OAK': 0, 'SV': 0, 'NYC': 0, 'PDX': 0}, 'ELC': {'SFM MSO': 0, 'Nest': 0, 'SF': 0, 'OAK': 0, 'SV': 0, 'NYC': 0, 'PDX': 0}, 'ER Taxes': {'SFM MSO': 0, 'Nest': 0, 'SF': 0, 'OAK': 0, 'SV': 0, 'NYC': 0, 'PDX': 0}, '401K-ER Match': {'SFM MSO': 0, 'Nest': 0, 'SF': 0, 'OAK': 0, 'SV': 0, 'NYC': 0, 'PDX': 0}, 'Medical Waiver': {'SFM MSO': 0, 'Nest': 0, 'SF': 0, 'OAK': 0, 'SV': 0, 'NYC': 0, 'PDX': 0}, 'MEDICAL': {'SFM MSO': 0, 'Nest': 0, 'SF': 0, 'OAK': 0, 'SV': 0, 'NYC': 0, 'PDX': 0}, 'DENTAL': {'SFM MSO': 0, 'Nest': 0, 'SF': 0, 'OAK': 0, 'SV': 0, 'NYC': 0, 'PDX': 0}, 'VISION': {'SFM MSO': 0, 'Nest': 0, 'SF': 0, 'OAK': 0, 'SV': 0, 'NYC': 0, 'PDX': 0}, 'LIFE': {'SFM MSO': 0, 'Nest': 0, 'SF': 0, 'OAK': 0, 'SV': 0, 'NYC': 0, 'PDX': 0}, 'Other Benefits': {'SFM MSO': 0, 'Nest': 0, 'SF': 0, 'OAK': 0, 'SV': 0, 'NYC': 0, 'PDX': 0}}}\n"
   ]
  },
  {
   "cell_type": "code",
   "execution_count": 9,
   "id": "42f00051-56b5-4c1d-bdf0-1f6bf8bae6d5",
   "metadata": {},
   "outputs": [
    {
     "name": "stdout",
     "output_type": "stream",
     "text": [
      "7\n"
     ]
    }
   ],
   "source": [
    "print(dict['Financial Counselor']['Salaries and Wages']['SF'])"
   ]
  },
  {
   "cell_type": "code",
   "execution_count": null,
   "id": "b2cdd35c-0cbf-4e6c-91ed-226df1b8272d",
   "metadata": {},
   "outputs": [],
   "source": []
  }
 ],
 "metadata": {
  "kernelspec": {
   "display_name": "Python 3 (ipykernel)",
   "language": "python",
   "name": "python3"
  },
  "language_info": {
   "codemirror_mode": {
    "name": "ipython",
    "version": 3
   },
   "file_extension": ".py",
   "mimetype": "text/x-python",
   "name": "python",
   "nbconvert_exporter": "python",
   "pygments_lexer": "ipython3",
   "version": "3.12.0"
  }
 },
 "nbformat": 4,
 "nbformat_minor": 5
}
