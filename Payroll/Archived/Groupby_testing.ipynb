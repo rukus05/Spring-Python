{
 "cells": [
  {
   "cell_type": "code",
   "execution_count": 21,
   "id": "86d0baa3",
   "metadata": {},
   "outputs": [
    {
     "name": "stdout",
     "output_type": "stream",
     "text": [
      "5892015.0\n",
      "Arana,Mileesa E\n",
      "5909273.0\n",
      "Arana,Mileesa E\n"
     ]
    }
   ],
   "source": [
    "import pandas as pd\n",
    "\n",
    "df_spring = pd.read_excel('002 Payroll 07082022-08072022 -raw.xlsx')\n",
    "df_spring = df_spring.reset_index()\n",
    "df_spring['Gross Wages'] = df_spring['Gross Wages'].fillna(0)\n",
    "df_spring['OT'] = df_spring['OT'].fillna(0)\n",
    "df_spring['Bonus'] = df_spring['Bonus'].fillna(0)\n",
    "df_spring['Taxes - ER - Totals'] = df_spring['Taxes - ER - Totals'].fillna(0)\n",
    "df_spring['Workers Comp Fee - Totals'] = df_spring['Workers Comp Fee - Totals'].fillna(0)\n",
    "df_spring['401k/Roth-ER'] = df_spring['401k/Roth-ER'].fillna(0)\n",
    "df_spring['BENEFITS wo 401K'] = df_spring['BENEFITS wo 401K'].fillna(0)\n",
    "df_spring['TOTAL FEES'] = df_spring['TOTAL FEES'].fillna(0)\n",
    "df_spring['PTO2'] = df_spring['PTO2'].fillna(0)\n",
    "df_spring['Electronics Nontaxable'] = df_spring['Electronics Nontaxable'].fillna(0)\n",
    "df_spring['Reimbursement-Non Taxable'] = df_spring['Reimbursement-Non Taxable'].fillna(0)\n",
    "df_spring['Total Client Charges'] = df_spring['Total Client Charges'].fillna(0)\n",
    "\n",
    "df_grouped = df_spring.groupby(['Invoice Number', 'Department Long Descr', 'SUB_DEPARTMENT', 'LOCATION'])\n",
    "df_grouped.size()\n",
    "#df_grouped.ngroups\n",
    "df_grouped.groups\n",
    "\n",
    "for name, r in df_grouped:\n",
    "    emp_list = r['Employee Name'].tolist()\n",
    "    \n",
    "#    if name[0] == 5892015:\n",
    "#        print(r['Employee Name'])\n",
    "#    emp = r['Employee Name']\n",
    "    counter = 0\n",
    "    for n in emp_list:\n",
    "        if n == 'Arana,Mileesa E':\n",
    "            print(name[0])\n",
    "            print(n)\n",
    "            counter += 1\n"
   ]
  },
  {
   "cell_type": "code",
   "execution_count": null,
   "id": "d560442d",
   "metadata": {},
   "outputs": [],
   "source": []
  }
 ],
 "metadata": {
  "kernelspec": {
   "display_name": "Python 3 (ipykernel)",
   "language": "python",
   "name": "python3"
  },
  "language_info": {
   "codemirror_mode": {
    "name": "ipython",
    "version": 3
   },
   "file_extension": ".py",
   "mimetype": "text/x-python",
   "name": "python",
   "nbconvert_exporter": "python",
   "pygments_lexer": "ipython3",
   "version": "3.10.5"
  }
 },
 "nbformat": 4,
 "nbformat_minor": 5
}
