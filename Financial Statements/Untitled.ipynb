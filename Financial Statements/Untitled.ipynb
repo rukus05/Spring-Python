{
 "cells": [
  {
   "cell_type": "code",
   "execution_count": 1,
   "id": "96483249",
   "metadata": {},
   "outputs": [
    {
     "name": "stdout",
     "output_type": "stream",
     "text": [
      "                            Account   Month 1   Month 2   Month 3   Month 4  \\\n",
      "0                           Revenue   Revenue   Revenue   Revenue   Revenue   \n",
      "1                  Self-pay revenue     35700         0         0      5425   \n",
      "2      Commercial Insurance revenue         0         0         0         0   \n",
      "3           Progyny & Stork revenue         0         0         0         0   \n",
      "4                   Storage revenue         0         0         0         0   \n",
      "..                              ...       ...       ...       ...       ...   \n",
      "285              Taxes & Regulatory         0         0         0         0   \n",
      "286                    Bank charges         0         0         0         0   \n",
      "287                           Other         0         0         0         0   \n",
      "288                        Non OpEx  Non OpEx  Non OpEx  Non OpEx  Non OpEx   \n",
      "289  Non-operating income/(expense)         0         0         0         0   \n",
      "\n",
      "        Total  \n",
      "0     Revenue  \n",
      "1       41125  \n",
      "2           0  \n",
      "3           0  \n",
      "4           0  \n",
      "..        ...  \n",
      "285         0  \n",
      "286         0  \n",
      "287         0  \n",
      "288  Non OpEx  \n",
      "289         0  \n",
      "\n",
      "[290 rows x 6 columns]\n"
     ]
    }
   ],
   "source": [
    "import pandas as pd\n",
    "import datetime\n",
    "import tkinter as tk\n",
    "from tkinter import TOP, ttk\n",
    "from tkinter import filedialog as fd\n",
    "from tkinter.messagebox import showinfo\n",
    "from tkinter.filedialog import asksaveasfile\n",
    "import PySimpleGUI as sg\n",
    "\n",
    "\n",
    "def main(): \n",
    "\n",
    "    f = FilePrompt()\n",
    "    df_cons = pd.read_excel(f)\n",
    "\n",
    "    print(df_cons)\n",
    "\n",
    "\n",
    "\n",
    "def FilePrompt():\n",
    "    root = tk.Tk()\n",
    "    root.title('Tkinter Open File Dialog')\n",
    "    root.resizable(False, False)\n",
    "    root.geometry('300x150')\n",
    "    root.withdraw()\n",
    "\n",
    "\n",
    "    filename = fd.askopenfilename()\n",
    "\n",
    "    return filename\n",
    "\n",
    "if __name__ == \"__main__\":\n",
    "    main()"
   ]
  },
  {
   "cell_type": "code",
   "execution_count": null,
   "id": "8fea28c2",
   "metadata": {},
   "outputs": [],
   "source": []
  }
 ],
 "metadata": {
  "kernelspec": {
   "display_name": "Python 3 (ipykernel)",
   "language": "python",
   "name": "python3"
  },
  "language_info": {
   "codemirror_mode": {
    "name": "ipython",
    "version": 3
   },
   "file_extension": ".py",
   "mimetype": "text/x-python",
   "name": "python",
   "nbconvert_exporter": "python",
   "pygments_lexer": "ipython3",
   "version": "3.10.5"
  }
 },
 "nbformat": 4,
 "nbformat_minor": 5
}
