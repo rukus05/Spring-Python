{
 "cells": [
  {
   "cell_type": "code",
   "execution_count": 1,
   "id": "d026b6c1-2dd1-4b54-a819-cc941f70976a",
   "metadata": {},
   "outputs": [],
   "source": [
    "dept_dict_aggregate_value = {'Receptionist HQ': 0, 'Medical Records': 0, 'Call Center': 0, 'Financial Counselor': 0, 'Clinical Operations': 0, 'Revenue Cycle': 0}"
   ]
  },
  {
   "cell_type": "code",
   "execution_count": 2,
   "id": "cb255d3d-0ace-430d-a870-f3016a307d59",
   "metadata": {},
   "outputs": [],
   "source": [
    "dept_dict_alloc_values = {'Receptionist HQ' : {'SFM MSO' : 0, 'Nest' : 0, 'SF' : 0, 'OAK' : 0, 'SV' : 0, 'NYC' : 0, 'PDX' : 0},\n",
    "                                     'Medical Records' : {'SFM MSO' : 0, 'Nest' : 0, 'SF' : 0, 'OAK' : 0, 'SV' : 0, 'NYC' : 0, 'PDX' : 0}, \n",
    "                                     'Call Center' : {'SFM MSO' : 0, 'Nest' : 0, 'SF' : 0, 'OAK' : 0, 'SV' : 0, 'NYC' : 0, 'PDX' : 0}, \n",
    "                                     'Financial Counselor' : {'SFM MSO' : 0, 'Nest' : 0, 'SF' : 0, 'OAK' : 0, 'SV' : 0, 'NYC' : 0, 'PDX' : 0},\n",
    "                                     'Cinical Operations' : {'SFM MSO' : 0, 'Nest' : 0, 'SF' : 0, 'OAK' : 0, 'SV' : 0, 'NYC' : 0, 'PDX' : 0},\n",
    "                                     'Revenue Cycle' : {'SFM MSO' : 0, 'Nest' : 0, 'SF' : 0, 'OAK' : 0, 'SV' : 0, 'NYC' : 0, 'PDX' : 0}\n",
    "                                     }"
   ]
  },
  {
   "cell_type": "code",
   "execution_count": 4,
   "id": "db38c6e0-2432-4638-b022-8b3d3484e6db",
   "metadata": {},
   "outputs": [
    {
     "name": "stdout",
     "output_type": "stream",
     "text": [
      "{'Receptionist HQ': {'SFM MSO': 0, 'Nest': 0, 'SF': 0, 'OAK': 0, 'SV': 0, 'NYC': 0, 'PDX': 0}, 'Medical Records': {'SFM MSO': 0, 'Nest': 0, 'SF': 0, 'OAK': 0, 'SV': 0, 'NYC': 0, 'PDX': 0}, 'Call Center': {'SFM MSO': 0, 'Nest': 0, 'SF': 0, 'OAK': 0, 'SV': 0, 'NYC': 0, 'PDX': 0}, 'Financial Counselor': {'SFM MSO': 0, 'Nest': 0, 'SF': 0, 'OAK': 0, 'SV': 0, 'NYC': 0, 'PDX': 0}, 'Cinical Operations': {'SFM MSO': 0, 'Nest': 0, 'SF': 0, 'OAK': 0, 'SV': 0, 'NYC': 0, 'PDX': 0}, 'Revenue Cycle': {'SFM MSO': 0, 'Nest': 0, 'SF': 0, 'OAK': 0, 'SV': 0, 'NYC': 0, 'PDX': 0}}\n"
     ]
    }
   ],
   "source": [
    "print(dept_dict_alloc_values)"
   ]
  },
  {
   "cell_type": "code",
   "execution_count": 21,
   "id": "dcfe68bb-18b3-4a53-9246-14845dd5a9ea",
   "metadata": {},
   "outputs": [
    {
     "name": "stdout",
     "output_type": "stream",
     "text": [
      "50\n"
     ]
    }
   ],
   "source": [
    "dept_dict_alloc_values['Receptionist HQ']['Nest'] = dept_dict_alloc_values['Receptionist HQ']['Nest'] + 5\n",
    "print(dept_dict_alloc_values['Receptionist HQ']['Nest'])"
   ]
  },
  {
   "cell_type": "code",
   "execution_count": 1,
   "id": "0d54d044-4960-4e4f-b321-69dc84c7e12a",
   "metadata": {},
   "outputs": [],
   "source": [
    "all_locations = ['SFM MSO', 'Nest', 'SF', 'OAK', 'SV', 'NYC', 'PDX']\n",
    "dept_dict_aggregate_value = {'Receptionist HQ': 340.6, 'Medical Records': 1821.5037502394591, 'Call Center': 4659.428703063385, 'Financial Counselor': 3822.32517233102, 'Clinical Operations': 1210.4790648006033, 'Revenue Cycle': 4194.9308440377745}\n",
    "\n",
    "dept_dict_alloc_values = {'Receptionist HQ' : {'SFM MSO' : 0, 'Nest' : 0, 'SF' : 0, 'OAK' : 0, 'SV' : 0, 'NYC' : 0, 'PDX' : 0},\n",
    "                                     'Medical Records' : {'SFM MSO' : 0, 'Nest' : 0, 'SF' : 0, 'OAK' : 0, 'SV' : 0, 'NYC' : 0, 'PDX' : 0}, \n",
    "                                     'Call Center' : {'SFM MSO' : 0, 'Nest' : 0, 'SF' : 0, 'OAK' : 0, 'SV' : 0, 'NYC' : 0, 'PDX' : 0}, \n",
    "                                     'Financial Counselor' : {'SFM MSO' : 0, 'Nest' : 0, 'SF' : 0, 'OAK' : 0, 'SV' : 0, 'NYC' : 0, 'PDX' : 0},\n",
    "                                     'Cinical Operations' : {'SFM MSO' : 0, 'Nest' : 0, 'SF' : 0, 'OAK' : 0, 'SV' : 0, 'NYC' : 0, 'PDX' : 0},\n",
    "                                     'Revenue Cycle' : {'SFM MSO' : 0, 'Nest' : 0, 'SF' : 0, 'OAK' : 0, 'SV' : 0, 'NYC' : 0, 'PDX' : 0}\n",
    "                                     }\n",
    "\n",
    "for d, v in dept_dict_aggregate_value.items():\n",
    "        hq_percent = dept_alloc_dict[d]['SFM MSO']\n",
    "        nest_percent = dept_alloc_dict[d]['Nest']\n",
    "        sf_percent = dept_alloc_dict[d]['SF']\n",
    "        oak_percent = dept_alloc_dict[d]['OAK']\n",
    "        sv_percent = dept_alloc_dict[d]['SV']\n",
    "        nyc_percent = dept_alloc_dict[d]['NYC']\n",
    "        pdx_percent = dept_alloc_dict[d]['PDX']\n",
    "\n",
    "        for l in all_locations:\n",
    "            if l == 'SFM MSO':\n",
    "                pct = hq_percent\n",
    "            elif l == 'Nest':\n",
    "                pct = nest_percent\n",
    "            elif l == 'SF':\n",
    "                pct = sf_percent\n",
    "            elif l == 'OAK':\n",
    "                pct = oak_percent\n",
    "            elif l == 'SV':\n",
    "                pct = sv_percent\n",
    "            elif l == 'NYC':\n",
    "                pct = nyc_percent\n",
    "            elif l == 'PDX':\n",
    "                pct = pdx_percent\n",
    "            print(v)\n",
    "            dept_dict_alloc_values[d][l] = v*pct\n",
    "            print(dept_dict_alloc_values[d][l])\n"
   ]
  },
  {
   "cell_type": "code",
   "execution_count": null,
   "id": "03c41949-4df2-4037-a4ce-f760276063a8",
   "metadata": {},
   "outputs": [],
   "source": []
  }
 ],
 "metadata": {
  "kernelspec": {
   "display_name": "Python 3 (ipykernel)",
   "language": "python",
   "name": "python3"
  },
  "language_info": {
   "codemirror_mode": {
    "name": "ipython",
    "version": 3
   },
   "file_extension": ".py",
   "mimetype": "text/x-python",
   "name": "python",
   "nbconvert_exporter": "python",
   "pygments_lexer": "ipython3",
   "version": "3.12.0"
  }
 },
 "nbformat": 4,
 "nbformat_minor": 5
}
