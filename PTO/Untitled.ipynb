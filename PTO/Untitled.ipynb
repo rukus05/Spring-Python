{
 "cells": [
  {
   "cell_type": "code",
   "execution_count": 1,
   "id": "d026b6c1-2dd1-4b54-a819-cc941f70976a",
   "metadata": {},
   "outputs": [],
   "source": [
    "dept_dict_aggregate_value = {'Receptionist HQ': 0, 'Medical Records': 0, 'Call Center': 0, 'Financial Counselor': 0, 'Clinical Operations': 0, 'Revenue Cycle': 0}"
   ]
  },
  {
   "cell_type": "code",
   "execution_count": 2,
   "id": "cb255d3d-0ace-430d-a870-f3016a307d59",
   "metadata": {},
   "outputs": [],
   "source": [
    "dept_dict_alloc_values = {'Receptionist HQ' : {'SFM MSO' : 0, 'Nest' : 0, 'SF' : 0, 'OAK' : 0, 'SV' : 0, 'NYC' : 0, 'PDX' : 0},\n",
    "                                     'Medical Records' : {'SFM MSO' : 0, 'Nest' : 0, 'SF' : 0, 'OAK' : 0, 'SV' : 0, 'NYC' : 0, 'PDX' : 0}, \n",
    "                                     'Call Center' : {'SFM MSO' : 0, 'Nest' : 0, 'SF' : 0, 'OAK' : 0, 'SV' : 0, 'NYC' : 0, 'PDX' : 0}, \n",
    "                                     'Financial Counselor' : {'SFM MSO' : 0, 'Nest' : 0, 'SF' : 0, 'OAK' : 0, 'SV' : 0, 'NYC' : 0, 'PDX' : 0},\n",
    "                                     'Cinical Operations' : {'SFM MSO' : 0, 'Nest' : 0, 'SF' : 0, 'OAK' : 0, 'SV' : 0, 'NYC' : 0, 'PDX' : 0},\n",
    "                                     'Revenue Cycle' : {'SFM MSO' : 0, 'Nest' : 0, 'SF' : 0, 'OAK' : 0, 'SV' : 0, 'NYC' : 0, 'PDX' : 0}\n",
    "                                     }"
   ]
  },
  {
   "cell_type": "code",
   "execution_count": 4,
   "id": "db38c6e0-2432-4638-b022-8b3d3484e6db",
   "metadata": {},
   "outputs": [
    {
     "name": "stdout",
     "output_type": "stream",
     "text": [
      "{'Receptionist HQ': {'SFM MSO': 0, 'Nest': 0, 'SF': 0, 'OAK': 0, 'SV': 0, 'NYC': 0, 'PDX': 0}, 'Medical Records': {'SFM MSO': 0, 'Nest': 0, 'SF': 0, 'OAK': 0, 'SV': 0, 'NYC': 0, 'PDX': 0}, 'Call Center': {'SFM MSO': 0, 'Nest': 0, 'SF': 0, 'OAK': 0, 'SV': 0, 'NYC': 0, 'PDX': 0}, 'Financial Counselor': {'SFM MSO': 0, 'Nest': 0, 'SF': 0, 'OAK': 0, 'SV': 0, 'NYC': 0, 'PDX': 0}, 'Cinical Operations': {'SFM MSO': 0, 'Nest': 0, 'SF': 0, 'OAK': 0, 'SV': 0, 'NYC': 0, 'PDX': 0}, 'Revenue Cycle': {'SFM MSO': 0, 'Nest': 0, 'SF': 0, 'OAK': 0, 'SV': 0, 'NYC': 0, 'PDX': 0}}\n"
     ]
    }
   ],
   "source": [
    "print(dept_dict_alloc_values)"
   ]
  },
  {
   "cell_type": "code",
   "execution_count": 21,
   "id": "dcfe68bb-18b3-4a53-9246-14845dd5a9ea",
   "metadata": {},
   "outputs": [
    {
     "name": "stdout",
     "output_type": "stream",
     "text": [
      "50\n"
     ]
    }
   ],
   "source": [
    "dept_dict_alloc_values['Receptionist HQ']['Nest'] = dept_dict_alloc_values['Receptionist HQ']['Nest'] + 5\n",
    "print(dept_dict_alloc_values['Receptionist HQ']['Nest'])"
   ]
  },
  {
   "cell_type": "code",
   "execution_count": 3,
   "id": "0d54d044-4960-4e4f-b321-69dc84c7e12a",
   "metadata": {},
   "outputs": [
    {
     "name": "stdout",
     "output_type": "stream",
     "text": [
      "340.6\n",
      "0.0\n",
      "340.6\n",
      "0.0\n",
      "340.6\n",
      "122.616\n",
      "340.6\n",
      "64.714\n",
      "340.6\n",
      "51.09\n",
      "340.6\n",
      "68.12\n",
      "340.6\n",
      "34.06\n",
      "1821.5037502394591\n",
      "0.0\n",
      "1821.5037502394591\n",
      "0.0\n",
      "1821.5037502394591\n",
      "655.7413500862052\n",
      "1821.5037502394591\n",
      "346.08571254549724\n",
      "1821.5037502394591\n",
      "273.22556253591887\n",
      "1821.5037502394591\n",
      "364.3007500478918\n",
      "1821.5037502394591\n",
      "182.1503750239459\n",
      "4659.428703063385\n",
      "0.0\n",
      "4659.428703063385\n",
      "0.0\n",
      "4659.428703063385\n",
      "1677.3943331028186\n",
      "4659.428703063385\n",
      "885.2914535820431\n",
      "4659.428703063385\n",
      "698.9143054595078\n",
      "4659.428703063385\n",
      "931.8857406126771\n",
      "4659.428703063385\n",
      "465.94287030633853\n",
      "3822.32517233102\n",
      "0.0\n",
      "3822.32517233102\n",
      "0.0\n",
      "3822.32517233102\n",
      "1376.037062039167\n",
      "3822.32517233102\n",
      "726.2417827428939\n",
      "3822.32517233102\n",
      "573.348775849653\n",
      "3822.32517233102\n",
      "764.4650344662041\n",
      "3822.32517233102\n",
      "382.23251723310204\n",
      "1210.4790648006033\n",
      "0.0\n",
      "1210.4790648006033\n",
      "0.0\n",
      "1210.4790648006033\n",
      "435.77246332821716\n",
      "1210.4790648006033\n",
      "229.99102231211464\n",
      "1210.4790648006033\n",
      "181.5718597200905\n",
      "1210.4790648006033\n",
      "242.09581296012067\n",
      "1210.4790648006033\n",
      "121.04790648006033\n",
      "4194.9308440377745\n",
      "4194.9308440377745\n",
      "4194.9308440377745\n",
      "0.0\n",
      "4194.9308440377745\n",
      "0.0\n",
      "4194.9308440377745\n",
      "0.0\n",
      "4194.9308440377745\n",
      "0.0\n",
      "4194.9308440377745\n",
      "0.0\n",
      "4194.9308440377745\n",
      "0.0\n",
      "{'Receptionist HQ': {'SFM MSO': 0.0, 'Nest': 0.0, 'SF': 122.616, 'OAK': 64.714, 'SV': 51.09, 'NYC': 68.12, 'PDX': 34.06}, 'Medical Records': {'SFM MSO': 0.0, 'Nest': 0.0, 'SF': 655.7413500862052, 'OAK': 346.08571254549724, 'SV': 273.22556253591887, 'NYC': 364.3007500478918, 'PDX': 182.1503750239459}, 'Call Center': {'SFM MSO': 0.0, 'Nest': 0.0, 'SF': 1677.3943331028186, 'OAK': 885.2914535820431, 'SV': 698.9143054595078, 'NYC': 931.8857406126771, 'PDX': 465.94287030633853}, 'Financial Counselor': {'SFM MSO': 0.0, 'Nest': 0.0, 'SF': 1376.037062039167, 'OAK': 726.2417827428939, 'SV': 573.348775849653, 'NYC': 764.4650344662041, 'PDX': 382.23251723310204}, 'Clinical Operations': {'SFM MSO': 0.0, 'Nest': 0.0, 'SF': 435.77246332821716, 'OAK': 229.99102231211464, 'SV': 181.5718597200905, 'NYC': 242.09581296012067, 'PDX': 121.04790648006033}, 'Revenue Cycle': {'SFM MSO': 4194.9308440377745, 'Nest': 0.0, 'SF': 0.0, 'OAK': 0.0, 'SV': 0.0, 'NYC': 0.0, 'PDX': 0.0}}\n"
     ]
    }
   ],
   "source": [
    "all_locations = ['SFM MSO', 'Nest', 'SF', 'OAK', 'SV', 'NYC', 'PDX']\n",
    "\n",
    "dept_alloc_dict = {'Receptionist HQ': {'SFM MSO': 0.0, 'Nest': 0.0, 'SF': 0.36, 'OAK': 0.19, 'SV': 0.15, 'NYC': 0.2, 'PDX': 0.1}, 'Medical Records': {'SFM MSO': 0.0, 'Nest': 0.0, 'SF': 0.36, 'OAK': 0.19, 'SV': 0.15, 'NYC': 0.2, 'PDX': 0.1}, 'Call Center': {'SFM MSO': 0.0, 'Nest': 0.0, 'SF': 0.36, 'OAK': 0.19, 'SV': 0.15, 'NYC': 0.2, 'PDX': 0.1}, 'Financial Counselor': {'SFM MSO': 0.0, 'Nest': 0.0, 'SF': 0.36, 'OAK': 0.19, 'SV': 0.15, 'NYC': 0.2, 'PDX': 0.1}, 'Clinical Operations': {'SFM MSO': 0.0, 'Nest': 0.0, 'SF': 0.36, 'OAK': 0.19, 'SV': 0.15, 'NYC': 0.2, 'PDX': 0.1}, 'Revenue Cycle': {'SFM MSO': 1.0, 'Nest': 0.0, 'SF': 0.0, 'OAK': 0.0, 'SV': 0.0, 'NYC': 0.0, 'PDX': 0.0}}\n",
    "\n",
    "dept_dict_aggregate_value = {'Receptionist HQ': 340.6, 'Medical Records': 1821.5037502394591, 'Call Center': 4659.428703063385, 'Financial Counselor': 3822.32517233102, 'Clinical Operations': 1210.4790648006033, 'Revenue Cycle': 4194.9308440377745}\n",
    "\n",
    "dept_dict_alloc_values = {'Receptionist HQ' : {'SFM MSO' : 0, 'Nest' : 0, 'SF' : 0, 'OAK' : 0, 'SV' : 0, 'NYC' : 0, 'PDX' : 0},\n",
    "                                     'Medical Records' : {'SFM MSO' : 0, 'Nest' : 0, 'SF' : 0, 'OAK' : 0, 'SV' : 0, 'NYC' : 0, 'PDX' : 0}, \n",
    "                                     'Call Center' : {'SFM MSO' : 0, 'Nest' : 0, 'SF' : 0, 'OAK' : 0, 'SV' : 0, 'NYC' : 0, 'PDX' : 0}, \n",
    "                                     'Financial Counselor' : {'SFM MSO' : 0, 'Nest' : 0, 'SF' : 0, 'OAK' : 0, 'SV' : 0, 'NYC' : 0, 'PDX' : 0},\n",
    "                                     'Clinical Operations' : {'SFM MSO' : 0, 'Nest' : 0, 'SF' : 0, 'OAK' : 0, 'SV' : 0, 'NYC' : 0, 'PDX' : 0},\n",
    "                                     'Revenue Cycle' : {'SFM MSO' : 0, 'Nest' : 0, 'SF' : 0, 'OAK' : 0, 'SV' : 0, 'NYC' : 0, 'PDX' : 0}\n",
    "                                     }\n",
    "\n",
    "for d, v in dept_dict_aggregate_value.items():\n",
    "        hq_percent = dept_alloc_dict[d]['SFM MSO']\n",
    "        nest_percent = dept_alloc_dict[d]['Nest']\n",
    "        sf_percent = dept_alloc_dict[d]['SF']\n",
    "        oak_percent = dept_alloc_dict[d]['OAK']\n",
    "        sv_percent = dept_alloc_dict[d]['SV']\n",
    "        nyc_percent = dept_alloc_dict[d]['NYC']\n",
    "        pdx_percent = dept_alloc_dict[d]['PDX']\n",
    "\n",
    "        for l in all_locations:\n",
    "            if l == 'SFM MSO':\n",
    "                pct = hq_percent\n",
    "            elif l == 'Nest':\n",
    "                pct = nest_percent\n",
    "            elif l == 'SF':\n",
    "                pct = sf_percent\n",
    "            elif l == 'OAK':\n",
    "                pct = oak_percent\n",
    "            elif l == 'SV':\n",
    "                pct = sv_percent\n",
    "            elif l == 'NYC':\n",
    "                pct = nyc_percent\n",
    "            elif l == 'PDX':\n",
    "                pct = pdx_percent\n",
    "            print(v)\n",
    "            dept_dict_alloc_values[d][l] = v*pct\n",
    "            print(dept_dict_alloc_values[d][l])\n",
    "print(dept_dict_alloc_values)\n"
   ]
  },
  {
   "cell_type": "code",
   "execution_count": null,
   "id": "03c41949-4df2-4037-a4ce-f760276063a8",
   "metadata": {},
   "outputs": [],
   "source": []
  }
 ],
 "metadata": {
  "kernelspec": {
   "display_name": "Python 3 (ipykernel)",
   "language": "python",
   "name": "python3"
  },
  "language_info": {
   "codemirror_mode": {
    "name": "ipython",
    "version": 3
   },
   "file_extension": ".py",
   "mimetype": "text/x-python",
   "name": "python",
   "nbconvert_exporter": "python",
   "pygments_lexer": "ipython3",
   "version": "3.12.0"
  }
 },
 "nbformat": 4,
 "nbformat_minor": 5
}
