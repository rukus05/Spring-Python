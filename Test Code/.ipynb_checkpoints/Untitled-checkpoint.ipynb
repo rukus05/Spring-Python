{
 "cells": [
  {
   "cell_type": "code",
   "execution_count": 2,
   "id": "cea69874",
   "metadata": {},
   "outputs": [
    {
     "name": "stdout",
     "output_type": "stream",
     "text": [
      "<module 'pandas' from 'C:\\\\Users\\\\zorinan.kasilag\\\\AppData\\\\Local\\\\Programs\\\\Python\\\\Python310\\\\lib\\\\site-packages\\\\pandas\\\\__init__.py'>\n"
     ]
    }
   ],
   "source": [
    "import pandas as pd\n",
    "pd.Series(dtype=int)\n",
    "print(pd)"
   ]
  },
  {
   "cell_type": "code",
   "execution_count": 4,
   "id": "9d24089f",
   "metadata": {},
   "outputs": [
    {
     "name": "stdout",
     "output_type": "stream",
     "text": [
      "   Courses    Fee Duration\n",
      "0    Spark  20000    30day\n",
      "1  PySpark  25000   40days\n",
      "2   Hadoop  26000   35days\n",
      "3   Python  22000   40days\n",
      "4   pandas  24000   60days\n",
      "5   Oracle  21000   50days\n",
      "6     Java  22000   55days\n"
     ]
    }
   ],
   "source": [
    "import pandas as pd\n",
    "technologies = ({\n",
    "    'Courses':[\"Spark\",\"PySpark\",\"Hadoop\",\"Python\",\"pandas\",\"Oracle\",\"Java\"],\n",
    "    'Fee' :[20000,25000,26000,22000,24000,21000,22000],\n",
    "    'Duration':['30day', '40days' ,'35days', '40days', '60days', '50days', '55days']\n",
    "              })\n",
    "df = pd.DataFrame(technologies)\n",
    "print(df)\n",
    "for idx in df.index:\n",
    "    print(idx)\n",
    "    \n"
   ]
  },
  {
   "cell_type": "code",
   "execution_count": null,
   "id": "9a8f5354",
   "metadata": {},
   "outputs": [],
   "source": []
  }
 ],
 "metadata": {
  "kernelspec": {
   "display_name": "Python 3 (ipykernel)",
   "language": "python",
   "name": "python3"
  },
  "language_info": {
   "codemirror_mode": {
    "name": "ipython",
    "version": 3
   },
   "file_extension": ".py",
   "mimetype": "text/x-python",
   "name": "python",
   "nbconvert_exporter": "python",
   "pygments_lexer": "ipython3",
   "version": "3.10.5"
  }
 },
 "nbformat": 4,
 "nbformat_minor": 5
}
