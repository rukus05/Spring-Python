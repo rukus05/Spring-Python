{
 "cells": [
  {
   "cell_type": "code",
   "execution_count": 2,
   "id": "cea69874",
   "metadata": {},
   "outputs": [
    {
     "name": "stdout",
     "output_type": "stream",
     "text": [
      "<module 'pandas' from 'C:\\\\Users\\\\zorinan.kasilag\\\\AppData\\\\Local\\\\Programs\\\\Python\\\\Python310\\\\lib\\\\site-packages\\\\pandas\\\\__init__.py'>\n"
     ]
    }
   ],
   "source": [
    "import pandas as pd\n",
    "pd.Series(dtype=int)\n",
    "print(pd)"
   ]
  },
  {
   "cell_type": "code",
   "execution_count": 31,
   "id": "9d24089f",
   "metadata": {},
   "outputs": [
    {
     "name": "stdout",
     "output_type": "stream",
     "text": [
      "   Courses    Fee Duration\n",
      "0    Spark  20000    30day\n",
      "1  PySpark  25000   40days\n",
      "2   Hadoop  26000   35days\n",
      "3   Python  22000   40days\n",
      "4   pandas  24000   60days\n",
      "5   Oracle  21000   50days\n",
      "6     Java  22000   55days\n",
      "20000\n",
      "20000\n",
      "25000\n",
      "45000\n",
      "26000\n",
      "71000\n",
      "22000\n",
      "93000\n",
      "24000\n",
      "117000\n",
      "21000\n",
      "138000\n",
      "22000\n",
      "160000\n"
     ]
    }
   ],
   "source": [
    "import pandas as pd\n",
    "technologies = ({\n",
    "    'Courses':[\"Spark\",\"PySpark\",\"Hadoop\",\"Python\",\"pandas\",\"Oracle\",\"Java\"],\n",
    "    'Fee' :[20000,25000,26000,22000,24000,21000,22000],\n",
    "    'Duration':['30day', '40days' ,'35days', '40days', '60days', '50days', '55days']\n",
    "              })\n",
    "df = pd.DataFrame(technologies)\n",
    "print(df)\n",
    "t = 0\n",
    "for row in df.itertuples(index = False):\n",
    "    print(row[1])\n",
    "    t = row[1] + t\n",
    "    print(t)\n",
    "    #print (getattr(row, \"Fee\"), getattr(row, \"Courses\"))\n",
    "    #for i in row.item()\n",
    "    \n"
   ]
  },
  {
   "cell_type": "code",
   "execution_count": 38,
   "id": "285869ec",
   "metadata": {},
   "outputs": [
    {
     "name": "stdout",
     "output_type": "stream",
     "text": [
      "-----------The DataFrame is-------\n",
      "           Name  Age Education\n",
      "index_1   Navya   25    M.Tech\n",
      "index_2  Vindya   24      Ph.d\n",
      "---------Iterate over DataFrame rows---------\n",
      "25\n",
      "24\n"
     ]
    }
   ],
   "source": [
    "#importing pandas as pd\n",
    "import pandas as pd\n",
    "#creating DataFrame\n",
    "df=pd.DataFrame({\"Name\":[\"Navya\",\"Vindya\"],\"Age\":[25,24],\"Education\":[\"M.Tech\",\"Ph.d\"]},index=['index_1', 'index_2'])\n",
    "print(\"-----------The DataFrame is-------\")\n",
    "print(df)\n",
    "print(\"---------Iterate over DataFrame rows---------\")\n",
    "for rows in df.itertuples():\n",
    "    print(rows.Age)"
   ]
  },
  {
   "cell_type": "code",
   "execution_count": 46,
   "id": "14b884f7",
   "metadata": {},
   "outputs": [
    {
     "name": "stdout",
     "output_type": "stream",
     "text": [
      "[20, 0, 0, 0, 0]\n"
     ]
    }
   ],
   "source": [
    "a = [1,2,3,4]\n",
    "n = 5\n",
    "b = [0] * n\n",
    "t = 20\n",
    "\n",
    "b[0] = b[0] + t\n",
    "\n",
    "print(b)"
   ]
  },
  {
   "cell_type": "code",
   "execution_count": null,
   "id": "a3bfa1df",
   "metadata": {},
   "outputs": [],
   "source": []
  }
 ],
 "metadata": {
  "kernelspec": {
   "display_name": "Python 3",
   "language": "python",
   "name": "python3"
  },
  "language_info": {
   "codemirror_mode": {
    "name": "ipython",
    "version": 3
   },
   "file_extension": ".py",
   "mimetype": "text/x-python",
   "name": "python",
   "nbconvert_exporter": "python",
   "pygments_lexer": "ipython3",
   "version": "3.10.5"
  },
  "vscode": {
   "interpreter": {
    "hash": "45262b3818aa8fd8e52a61805522444e474eb325c9ba936352d77c78b7ad66e9"
   }
  }
 },
 "nbformat": 4,
 "nbformat_minor": 5
}
